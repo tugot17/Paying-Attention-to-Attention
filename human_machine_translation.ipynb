{
 "cells": [
  {
   "cell_type": "markdown",
   "metadata": {},
   "source": [
    "# Human to machine date translation"
   ]
  },
  {
   "cell_type": "markdown",
   "metadata": {},
   "source": [
    "## Imports"
   ]
  },
  {
   "cell_type": "code",
   "execution_count": 1,
   "metadata": {},
   "outputs": [],
   "source": [
    "%matplotlib inline"
   ]
  },
  {
   "cell_type": "code",
   "execution_count": 2,
   "metadata": {},
   "outputs": [],
   "source": [
    "import pandas as pd\n",
    "import torch\n",
    "import torch.nn as nn\n",
    "from torch.autograd import Variable\n",
    "from torch import optim\n",
    "import torch.nn.functional as F\n",
    "from tqdm import tqdm, tqdm_notebook\n",
    "import random\n",
    "import matplotlib.pyplot as plt\n",
    "from pylab import rcParams\n",
    "import os\n",
    "import numpy as np\n",
    "import matplotlib"
   ]
  },
  {
   "cell_type": "code",
   "execution_count": 3,
   "metadata": {},
   "outputs": [],
   "source": [
    "#for now there is some problem with cuda so only cpu versio is working on\n",
    "# device = torch.device(\"cuda\" if torch.cuda.is_available() else \"cpu\")\n",
    "device = \"cpu\""
   ]
  },
  {
   "cell_type": "markdown",
   "metadata": {},
   "source": [
    "## Load data"
   ]
  },
  {
   "cell_type": "code",
   "execution_count": 4,
   "metadata": {},
   "outputs": [
    {
     "data": {
      "text/html": [
       "<div>\n",
       "<style scoped>\n",
       "    .dataframe tbody tr th:only-of-type {\n",
       "        vertical-align: middle;\n",
       "    }\n",
       "\n",
       "    .dataframe tbody tr th {\n",
       "        vertical-align: top;\n",
       "    }\n",
       "\n",
       "    .dataframe thead th {\n",
       "        text-align: right;\n",
       "    }\n",
       "</style>\n",
       "<table border=\"1\" class=\"dataframe\">\n",
       "  <thead>\n",
       "    <tr style=\"text-align: right;\">\n",
       "      <th></th>\n",
       "      <th>human</th>\n",
       "      <th>machine</th>\n",
       "    </tr>\n",
       "  </thead>\n",
       "  <tbody>\n",
       "    <tr>\n",
       "      <th>0</th>\n",
       "      <td>friday october 20 1995</td>\n",
       "      <td>1995-10-20</td>\n",
       "    </tr>\n",
       "    <tr>\n",
       "      <th>1</th>\n",
       "      <td>19 may 2011</td>\n",
       "      <td>2011-05-19</td>\n",
       "    </tr>\n",
       "    <tr>\n",
       "      <th>2</th>\n",
       "      <td>monday december 19 1994</td>\n",
       "      <td>1994-12-19</td>\n",
       "    </tr>\n",
       "    <tr>\n",
       "      <th>3</th>\n",
       "      <td>saturday june 22 1991</td>\n",
       "      <td>1991-06-22</td>\n",
       "    </tr>\n",
       "    <tr>\n",
       "      <th>4</th>\n",
       "      <td>november 4 1999</td>\n",
       "      <td>1999-11-04</td>\n",
       "    </tr>\n",
       "    <tr>\n",
       "      <th>...</th>\n",
       "      <td>...</td>\n",
       "      <td>...</td>\n",
       "    </tr>\n",
       "    <tr>\n",
       "      <th>9995</th>\n",
       "      <td>july 16 1980</td>\n",
       "      <td>1980-07-16</td>\n",
       "    </tr>\n",
       "    <tr>\n",
       "      <th>9996</th>\n",
       "      <td>friday august 11 1995</td>\n",
       "      <td>1995-08-11</td>\n",
       "    </tr>\n",
       "    <tr>\n",
       "      <th>9997</th>\n",
       "      <td>august 16 2015</td>\n",
       "      <td>2015-08-16</td>\n",
       "    </tr>\n",
       "    <tr>\n",
       "      <th>9998</th>\n",
       "      <td>jul 2 1980</td>\n",
       "      <td>1980-07-02</td>\n",
       "    </tr>\n",
       "    <tr>\n",
       "      <th>9999</th>\n",
       "      <td>13 aug 1997</td>\n",
       "      <td>1997-08-13</td>\n",
       "    </tr>\n",
       "  </tbody>\n",
       "</table>\n",
       "<p>10000 rows × 2 columns</p>\n",
       "</div>"
      ],
      "text/plain": [
       "                        human     machine\n",
       "0      friday october 20 1995  1995-10-20\n",
       "1                 19 may 2011  2011-05-19\n",
       "2     monday december 19 1994  1994-12-19\n",
       "3       saturday june 22 1991  1991-06-22\n",
       "4             november 4 1999  1999-11-04\n",
       "...                       ...         ...\n",
       "9995             july 16 1980  1980-07-16\n",
       "9996    friday august 11 1995  1995-08-11\n",
       "9997           august 16 2015  2015-08-16\n",
       "9998               jul 2 1980  1980-07-02\n",
       "9999              13 aug 1997  1997-08-13\n",
       "\n",
       "[10000 rows x 2 columns]"
      ]
     },
     "execution_count": 4,
     "metadata": {},
     "output_type": "execute_result"
    }
   ],
   "source": [
    "PATH = os.path.join('human-machine.csv')\n",
    "\n",
    "df = pd.read_csv(PATH, index_col=0)\n",
    "\n",
    "df"
   ]
  },
  {
   "cell_type": "markdown",
   "metadata": {},
   "source": [
    "## Prepare data for the training\n"
   ]
  },
  {
   "cell_type": "code",
   "execution_count": 5,
   "metadata": {},
   "outputs": [],
   "source": [
    "SOS_token = 0\n",
    "EOS_token = 1\n",
    "MAX_LENGTH = 30"
   ]
  },
  {
   "cell_type": "markdown",
   "metadata": {},
   "source": [
    "### Computers don't understand letters, so we need numbers"
   ]
  },
  {
   "cell_type": "code",
   "execution_count": 6,
   "metadata": {},
   "outputs": [],
   "source": [
    "class CharDict:\n",
    "    def __init__(self):\n",
    "        self.char2index = {}\n",
    "        self.char2count = {}\n",
    "        self.index2char = {SOS_token: \"SOS\", EOS_token: \"EOS\"}\n",
    "        self.n_chars = 2\n",
    "\n",
    "    def addSentence(self, sentence):\n",
    "        for c in sentence:\n",
    "            self.addChar(c)\n",
    "\n",
    "    def addChar(self, char):\n",
    "        if char not in self.char2index:\n",
    "            self.char2index[char] = self.n_chars\n",
    "            self.char2count[char] = 1\n",
    "            self.index2char[self.n_chars] = char\n",
    "            self.n_chars += 1\n",
    "        else:\n",
    "            self.char2count[char] += 1"
   ]
  },
  {
   "cell_type": "code",
   "execution_count": 7,
   "metadata": {},
   "outputs": [],
   "source": [
    "def prepare_data():\n",
    "    df = pd.read_csv(PATH)\n",
    "    human = df[\"human\"].values\n",
    "    machine = df[\"machine\"].values\n",
    "    pairs = []\n",
    "    for i in range(len(human)):\n",
    "        pairs.append([human[i], machine[i]])\n",
    "\n",
    "    input_lang = CharDict()\n",
    "    output_lang = CharDict()\n",
    "    for pair in pairs:\n",
    "        input_lang.addSentence(pair[0])\n",
    "        output_lang.addSentence(pair[1])\n",
    "    return input_lang, output_lang, pairs"
   ]
  },
  {
   "cell_type": "code",
   "execution_count": 8,
   "metadata": {},
   "outputs": [
    {
     "name": "stdout",
     "output_type": "stream",
     "text": [
      "Input char indices: {'f': 2, 'r': 3, 'i': 4, 'd': 5, 'a': 6, 'y': 7, ' ': 8, 'o': 9, 'c': 10, 't': 11, 'b': 12, 'e': 13, '2': 14, '0': 15, '1': 16, '9': 17, '5': 18, 'm': 19, 'n': 20, '4': 21, 's': 22, 'u': 23, 'j': 24, 'v': 25, 'w': 26, '7': 27, 'l': 28, '8': 29, 'h': 30, '6': 31, 'p': 32, '3': 33, '.': 34, '/': 35, 'g': 36}\n",
      "\n",
      "Example pair: ['november 27 1999', '1999-11-27']\n"
     ]
    }
   ],
   "source": [
    "input_lang, output_lang, pairs = prepare_data()\n",
    "\n",
    "print(f\"Input char indices: {input_lang.char2index}\")\n",
    "print()\n",
    "print(f\"Example pair: {pairs[2137]}\")"
   ]
  },
  {
   "cell_type": "code",
   "execution_count": 9,
   "metadata": {},
   "outputs": [],
   "source": [
    "def indexes_from_sentence(lang, sentence):\n",
    "    return [lang.char2index[char] for char in sentence]\n",
    "\n",
    "\n",
    "def variable_from_sentence(lang, sentence):\n",
    "    indexes = indexes_from_sentence(lang, sentence)\n",
    "    indexes.append(EOS_token)\n",
    "    var = Variable(torch.LongTensor(indexes).view(-1, 1)).to(device)\n",
    "    # if USE_CUDA: var = var.cuda()\n",
    "    return var\n",
    "\n",
    "\n",
    "def variables_from_pair(pair):\n",
    "    input_variable = variable_from_sentence(input_lang, pair[0])\n",
    "    target_variable = variable_from_sentence(output_lang, pair[1])\n",
    "    return (input_variable, target_variable)"
   ]
  },
  {
   "cell_type": "code",
   "execution_count": 10,
   "metadata": {},
   "outputs": [
    {
     "name": "stdout",
     "output_type": "stream",
     "text": [
      "Human input november 27 1999\n",
      "Machine output 1999-11-27\n",
      "Real input length: 16, parsed input shhape: torch.Size([17, 1])\n",
      "Real output length: 10, parsed input shhape: torch.Size([11, 1])\n",
      "\n",
      "Parsed human input tensor([[20],\n",
      "        [ 9],\n",
      "        [25],\n",
      "        [13],\n",
      "        [19],\n",
      "        [12],\n",
      "        [13],\n",
      "        [ 3],\n",
      "        [ 8],\n",
      "        [14],\n",
      "        [27],\n",
      "        [ 8],\n",
      "        [16],\n",
      "        [17],\n",
      "        [17],\n",
      "        [17],\n",
      "        [ 1]])\n",
      "Parsed machine output tensor([[ 2],\n",
      "        [ 3],\n",
      "        [ 3],\n",
      "        [ 3],\n",
      "        [ 5],\n",
      "        [ 2],\n",
      "        [ 2],\n",
      "        [ 5],\n",
      "        [ 7],\n",
      "        [10],\n",
      "        [ 1]])\n"
     ]
    }
   ],
   "source": [
    "pair = ['november 27 1999', '1999-11-27']\n",
    "\n",
    "print(f\"Human input {pair[0]}\")\n",
    "print(f\"Machine output {pair[1]}\")\n",
    "\n",
    "input_variable, target_variable = variables_from_pair(pair)\n",
    "\n",
    "print(f\"Real input length: {len(pair[0])}, parsed input shhape: {input_variable.shape}\")\n",
    "print(f\"Real output length: {len(pair[1])}, parsed input shhape: {target_variable.shape}\")\n",
    "\n",
    "print()\n",
    "\n",
    "print(f\"Parsed human input {input_variable}\")\n",
    "print(f\"Parsed machine output {target_variable}\")"
   ]
  },
  {
   "cell_type": "markdown",
   "metadata": {},
   "source": [
    "## Define the model\n",
    "\n",
    "\n",
    "<img src=\"images/seq2seq.png\"/>\n",
    "\n",
    "1. Embed\n",
    "2. Encode\n",
    "3. Attend\n",
    "4. Predict\n"
   ]
  },
  {
   "cell_type": "markdown",
   "metadata": {},
   "source": [
    "### Encoder\n",
    "\n",
    "<img src=\"images/encoder-network.png\"/>"
   ]
  },
  {
   "cell_type": "code",
   "execution_count": 11,
   "metadata": {},
   "outputs": [],
   "source": [
    "class EncoderRNN(nn.Module):\n",
    "    def __init__(self, input_size, hidden_size):\n",
    "        super(EncoderRNN, self).__init__()\n",
    "        self.hidden_size = hidden_size\n",
    "\n",
    "        self.embedding = nn.Embedding(input_size, hidden_size)\n",
    "        self.gru = nn.GRU(hidden_size, hidden_size)\n",
    "\n",
    "    def forward(self, input, hidden):\n",
    "        embedded = self.embedding(input).view(1, 1, -1)\n",
    "        output = embedded\n",
    "        output, hidden = self.gru(output, hidden)\n",
    "        return output, hidden\n",
    "\n",
    "    def init_hidden(self):\n",
    "        return torch.zeros(1, 1, self.hidden_size, device=device)"
   ]
  },
  {
   "cell_type": "markdown",
   "metadata": {},
   "source": [
    "### Example usage"
   ]
  },
  {
   "cell_type": "code",
   "execution_count": 12,
   "metadata": {},
   "outputs": [
    {
     "name": "stdout",
     "output_type": "stream",
     "text": [
      "Number of chars in input data: 37\n",
      "Hidden state: tensor([[[0., 0., 0., 0., 0., 0., 0., 0., 0., 0., 0., 0., 0., 0., 0., 0., 0., 0., 0., 0., 0., 0., 0.,\n",
      "          0., 0., 0., 0., 0., 0., 0., 0., 0., 0., 0., 0., 0., 0., 0., 0., 0., 0., 0., 0., 0., 0., 0.,\n",
      "          0., 0., 0., 0., 0., 0., 0., 0., 0., 0., 0., 0., 0., 0., 0., 0., 0., 0.]]])\n",
      "Output shape: torch.Size([1, 1, 64])\n",
      "Hidden state shape: torch.Size([1, 1, 64])\n",
      "Output: tensor([[[-0.0478, -0.5431,  0.0997, -0.2324,  0.0138,  0.1760, -0.0274,\n",
      "          -0.0999, -0.0684, -0.1663,  0.2475,  0.0884, -0.3003, -0.2772,\n",
      "          -0.2035, -0.1211,  0.2084,  0.3077,  0.4153,  0.2399,  0.3368,\n",
      "           0.1871, -0.1179, -0.1679,  0.0261,  0.1721,  0.0880, -0.1811,\n",
      "           0.1808,  0.0879, -0.0167,  0.0511,  0.0214, -0.1042,  0.0921,\n",
      "          -0.0821, -0.5229, -0.0615, -0.3729, -0.2019,  0.2015,  0.0625,\n",
      "          -0.0060,  0.4505, -0.1952,  0.0985, -0.2364, -0.0105,  0.2095,\n",
      "          -0.6425,  0.0748,  0.1998, -0.0160,  0.0223, -0.4261, -0.0643,\n",
      "          -0.2667, -0.3534,  0.2670, -0.0350,  0.2225,  0.2285, -0.3082,\n",
      "          -0.6304]]], grad_fn=<StackBackward>)\n",
      "Hidden state: tensor([[[-0.0478, -0.5431,  0.0997, -0.2324,  0.0138,  0.1760, -0.0274,\n",
      "          -0.0999, -0.0684, -0.1663,  0.2475,  0.0884, -0.3003, -0.2772,\n",
      "          -0.2035, -0.1211,  0.2084,  0.3077,  0.4153,  0.2399,  0.3368,\n",
      "           0.1871, -0.1179, -0.1679,  0.0261,  0.1721,  0.0880, -0.1811,\n",
      "           0.1808,  0.0879, -0.0167,  0.0511,  0.0214, -0.1042,  0.0921,\n",
      "          -0.0821, -0.5229, -0.0615, -0.3729, -0.2019,  0.2015,  0.0625,\n",
      "          -0.0060,  0.4505, -0.1952,  0.0985, -0.2364, -0.0105,  0.2095,\n",
      "          -0.6425,  0.0748,  0.1998, -0.0160,  0.0223, -0.4261, -0.0643,\n",
      "          -0.2667, -0.3534,  0.2670, -0.0350,  0.2225,  0.2285, -0.3082,\n",
      "          -0.6304]]], grad_fn=<StackBackward>)\n"
     ]
    }
   ],
   "source": [
    "print(f\"Number of chars in input data: {input_lang.n_chars}\")\n",
    "\n",
    "encoder = EncoderRNN(input_lang.n_chars, hidden_size=64).to(device)\n",
    "\n",
    "hidden = encoder.init_hidden()\n",
    "\n",
    "print(f\"Hidden state: {hidden}\")\n",
    "\n",
    "output, hidden = encoder(torch.tensor(21), hidden)\n",
    "\n",
    "print(f\"Output shape: {output.shape}\")\n",
    "print(f\"Hidden state shape: {hidden.shape}\")\n",
    "\n",
    "\n",
    "print(f\"Output: {output}\")\n",
    "print(f\"Hidden state: {hidden}\")"
   ]
  },
  {
   "cell_type": "markdown",
   "metadata": {},
   "source": [
    "### Decoder\n",
    "\n",
    "Example decoder in Encoder-Decoder architecture <b> WE DONT USE IT</b>, we will use Attention decoder instead. This one is only to introduce the concept of decoder.\n",
    "\n",
    "<img src=\"images/decoder-network.png\"/>"
   ]
  },
  {
   "cell_type": "code",
   "execution_count": 13,
   "metadata": {},
   "outputs": [],
   "source": [
    "class DecoderRNN(nn.Module):\n",
    "    def __init__(self, hidden_size, output_size):\n",
    "        super(DecoderRNN, self).__init__()\n",
    "        self.hidden_size = hidden_size\n",
    "\n",
    "        self.embedding = nn.Embedding(output_size, hidden_size)\n",
    "        self.gru = nn.GRU(hidden_size, hidden_size)\n",
    "        self.out = nn.Linear(hidden_size, output_size)\n",
    "        self.softmax = nn.LogSoftmax(dim=1)\n",
    "\n",
    "    def forward(self, input, hidden):\n",
    "        output = self.embedding(input).view(1, 1, -1)\n",
    "        output = F.relu(output)\n",
    "        output, hidden = self.gru(output, hidden)\n",
    "        output = self.softmax(self.out(output[0]))\n",
    "        return output, hidden\n",
    "\n",
    "    def init_hidden(self):\n",
    "        return torch.zeros(1, 1, self.hidden_size, device=device)"
   ]
  },
  {
   "cell_type": "markdown",
   "metadata": {},
   "source": [
    "### Example usage"
   ]
  },
  {
   "cell_type": "code",
   "execution_count": 14,
   "metadata": {},
   "outputs": [
    {
     "name": "stdout",
     "output_type": "stream",
     "text": [
      "Number of chars in target data: 13\n",
      "Output shape: torch.Size([1, 13])\n",
      "Hidden state shape: torch.Size([1, 1, 64])\n",
      "Output: tensor([[-2.5416, -2.6538, -2.7066, -2.8975, -2.5685, -2.6640, -2.5171, -2.4762,\n",
      "         -2.6472, -2.6047, -2.4126, -2.2777, -2.5134]],\n",
      "       grad_fn=<LogSoftmaxBackward>)\n",
      "Hidden state: tensor([[[ 0.0463, -0.0412, -0.1089, -0.0750, -0.2551,  0.2022,  0.1875,\n",
      "          -0.1433, -0.0948,  0.1825, -0.0044,  0.0853, -0.0753,  0.0347,\n",
      "          -0.0101, -0.0502,  0.0603,  0.0605,  0.1429,  0.1422,  0.0260,\n",
      "           0.0137, -0.2558, -0.3137, -0.1612, -0.0095,  0.1899, -0.1191,\n",
      "          -0.0381,  0.2819,  0.0628,  0.1220,  0.2648, -0.0064, -0.1064,\n",
      "          -0.1815, -0.4039, -0.0181,  0.1713,  0.0944,  0.1834,  0.2286,\n",
      "           0.1672,  0.1851, -0.1682,  0.2012, -0.1542, -0.1794,  0.0296,\n",
      "          -0.6866, -0.0940,  0.1615,  0.1683,  0.0476, -0.0128,  0.1943,\n",
      "           0.0385, -0.1504, -0.0153,  0.0608,  0.0928,  0.0461, -0.1079,\n",
      "          -0.3438]]], grad_fn=<StackBackward>)\n"
     ]
    }
   ],
   "source": [
    "print(f\"Number of chars in target data: {output_lang.n_chars}\")\n",
    "\n",
    "\n",
    "decoder = DecoderRNN(64, output_lang.n_chars).to(device)\n",
    "\n",
    "# hidden = decoder.init_hidden()\n",
    "\n",
    "output, hidden = decoder(torch.tensor([[SOS_token]], device=device), hidden)\n",
    "\n",
    "print(f\"Output shape: {output.shape}\")\n",
    "print(f\"Hidden state shape: {hidden.shape}\")\n",
    "\n",
    "\n",
    "print(f\"Output: {output}\")\n",
    "print(f\"Hidden state: {hidden}\")\n"
   ]
  },
  {
   "cell_type": "markdown",
   "metadata": {},
   "source": [
    "### Attention decoder\n",
    "\n",
    "<img width=300px src=\"images/attention-decoder-network.png\"/>"
   ]
  },
  {
   "cell_type": "code",
   "execution_count": 15,
   "metadata": {},
   "outputs": [],
   "source": [
    "class AttentionDecoderRNN(nn.Module):\n",
    "    def __init__(self, hidden_size, output_size, dropout_p=0.1, max_length=MAX_LENGTH):\n",
    "        super(AttentionDecoderRNN, self).__init__()\n",
    "        self.hidden_size = hidden_size\n",
    "        self.output_size = output_size\n",
    "        self.dropout_p = dropout_p\n",
    "        self.max_length = max_length\n",
    "\n",
    "        self.embedding = nn.Embedding(self.output_size, self.hidden_size)\n",
    "        self.attn = nn.Linear(self.hidden_size * 2, self.max_length)\n",
    "        self.attn_combine = nn.Linear(self.hidden_size * 2, self.hidden_size)\n",
    "        self.dropout = nn.Dropout(self.dropout_p)\n",
    "        self.gru = nn.GRU(self.hidden_size, self.hidden_size)\n",
    "        self.out = nn.Linear(self.hidden_size, self.output_size)\n",
    "\n",
    "    def forward(self, input, hidden, encoder_outputs):\n",
    "        embedded = self.embedding(input).view(1, 1, -1)\n",
    "        embedded = self.dropout(embedded)\n",
    "\n",
    "        attn_weights = F.softmax(\n",
    "            self.attn(torch.cat((embedded[0], hidden[0]), 1)), dim=1)\n",
    "        attn_applied = torch.bmm(attn_weights.unsqueeze(0),\n",
    "                                 encoder_outputs.unsqueeze(0))\n",
    "\n",
    "        output = torch.cat((embedded[0], attn_applied[0]), 1)\n",
    "        output = self.attn_combine(output).unsqueeze(0)\n",
    "\n",
    "        output = F.relu(output)\n",
    "        output, hidden = self.gru(output, hidden)\n",
    "\n",
    "        output = F.log_softmax(self.out(output[0]), dim=1)\n",
    "        return output, hidden, attn_weights\n",
    "\n",
    "    def init_hidden(self):\n",
    "        return torch.zeros(1, 1, self.hidden_size, device=device)"
   ]
  },
  {
   "cell_type": "markdown",
   "metadata": {},
   "source": [
    "## Define the training hyperparamters"
   ]
  },
  {
   "cell_type": "code",
   "execution_count": 16,
   "metadata": {},
   "outputs": [],
   "source": [
    "EPOCHS = 30_000\n",
    "LEARNING_RATE = 0.005\n",
    "HIDDEN_SIZE = 64\n",
    "TEACHER_FORCING_RATIO = 0.5\n"
   ]
  },
  {
   "cell_type": "markdown",
   "metadata": {},
   "source": [
    "## Define a training function"
   ]
  },
  {
   "cell_type": "code",
   "execution_count": 17,
   "metadata": {},
   "outputs": [],
   "source": [
    "def train(input_tensor, target_tensor, encoder, decoder, encoder_optimizer, decoder_optimizer,\n",
    "          criterion, max_length=MAX_LENGTH):\n",
    "    encoder_hidden = encoder.init_hidden()\n",
    "\n",
    "    encoder_optimizer.zero_grad()\n",
    "    decoder_optimizer.zero_grad()\n",
    "\n",
    "    input_length = input_tensor.size(0)\n",
    "    target_length = target_tensor.size(0)\n",
    "\n",
    "    encoder_outputs = torch.zeros(max_length, encoder.hidden_size, device=device)\n",
    "\n",
    "    loss = 0\n",
    "\n",
    "    for i in range(input_length):\n",
    "        encoder_output, encoder_hidden = encoder(\n",
    "            input_tensor[i], encoder_hidden)\n",
    "        encoder_outputs[i] = encoder_output[0, 0]\n",
    "\n",
    "    decoder_input = torch.tensor([[SOS_token]], device=device)\n",
    "\n",
    "    decoder_hidden = encoder_hidden\n",
    "\n",
    "    use_teacher_forcing = True if random.random() < TEACHER_FORCING_RATIO else False\n",
    "\n",
    "    if use_teacher_forcing:\n",
    "        # Teacher forcing: Feed the target  as the next input\n",
    "        for di in range(target_length):\n",
    "            decoder_output, decoder_hidden, decoder_attention = decoder(\n",
    "                decoder_input, decoder_hidden, encoder_outputs)\n",
    "            loss += criterion(decoder_output, target_tensor[di])\n",
    "            decoder_input = target_tensor[di]  # Teacher forcing\n",
    "\n",
    "    else:\n",
    "        # Without teacher forcing: use its own predictions as the next input\n",
    "        for di in range(target_length):\n",
    "            decoder_output, decoder_hidden, decoder_attention = decoder(\n",
    "                decoder_input, decoder_hidden, encoder_outputs)\n",
    "            topv, topi = decoder_output.topk(1)\n",
    "            decoder_input = topi.squeeze().detach()  # detach from history as input\n",
    "\n",
    "            loss += criterion(decoder_output, target_tensor[di])\n",
    "            if decoder_input.item() == EOS_token:\n",
    "                break\n",
    "\n",
    "    loss.backward()\n",
    "\n",
    "    encoder_optimizer.step()\n",
    "    decoder_optimizer.step()\n",
    "\n",
    "    return loss.item() / target_length"
   ]
  },
  {
   "cell_type": "markdown",
   "metadata": {},
   "source": [
    "## Design a training loop"
   ]
  },
  {
   "cell_type": "code",
   "execution_count": 18,
   "metadata": {},
   "outputs": [],
   "source": [
    "encoder = EncoderRNN(input_lang.n_chars, HIDDEN_SIZE).to(device)\n",
    "decoder = AttentionDecoderRNN(HIDDEN_SIZE, output_lang.n_chars, dropout_p=0.1).to(device)\n",
    "\n",
    "\n",
    "encoder_optimizer = optim.SGD(encoder.parameters(), lr=LEARNING_RATE)\n",
    "decoder_optimizer = optim.SGD(decoder.parameters(), lr=LEARNING_RATE)\n",
    "\n",
    "criterion = nn.NLLLoss()"
   ]
  },
  {
   "cell_type": "code",
   "execution_count": 19,
   "metadata": {},
   "outputs": [],
   "source": [
    "training_pairs = [variables_from_pair(random.choice(pairs))\n",
    "                  for i in range(EPOCHS)]"
   ]
  },
  {
   "cell_type": "code",
   "execution_count": 20,
   "metadata": {},
   "outputs": [],
   "source": [
    "losses = []"
   ]
  },
  {
   "cell_type": "code",
   "execution_count": 21,
   "metadata": {},
   "outputs": [
    {
     "name": "stderr",
     "output_type": "stream",
     "text": [
      "/home/piotr/anaconda3/envs/pumapython/lib/python3.7/site-packages/ipykernel_launcher.py:1: TqdmDeprecationWarning: This function will be removed in tqdm==5.0.0\n",
      "Please use `tqdm.notebook.tqdm` instead of `tqdm.tqdm_notebook`\n",
      "  \"\"\"Entry point for launching an IPython kernel.\n"
     ]
    },
    {
     "data": {
      "application/vnd.jupyter.widget-view+json": {
       "model_id": "f0d7a7ad5df24528801ae1c97723b4d0",
       "version_major": 2,
       "version_minor": 0
      },
      "text/plain": [
       "HBox(children=(FloatProgress(value=0.0, max=30000.0), HTML(value='')))"
      ]
     },
     "metadata": {},
     "output_type": "display_data"
    },
    {
     "name": "stdout",
     "output_type": "stream",
     "text": [
      "Loss: 2.5125999450683594\n",
      "Loss: 1.1206715323708274\n",
      "Loss: 0.8173559362238104\n",
      "Loss: 0.5885919224132191\n",
      "Loss: 0.5791624242609198\n",
      "Loss: 0.8763106086037376\n",
      "Loss: 0.6172269907864657\n",
      "Loss: 0.49876928329467773\n",
      "Loss: 0.22797547687183728\n",
      "Loss: 0.22864588824185458\n",
      "Loss: 0.3331551335074685\n",
      "Loss: 0.3626427867195823\n",
      "Loss: 0.18350672721862793\n",
      "Loss: 0.05678801103071733\n",
      "Loss: 0.3948114135048606\n",
      "Loss: 0.14968870986591687\n",
      "Loss: 0.059521160342476585\n",
      "Loss: 0.05851893533359875\n",
      "Loss: 0.1177993579344316\n",
      "Loss: 1.9571045962246982\n",
      "Loss: 0.014749405058947477\n",
      "Loss: 0.021961576559326866\n",
      "Loss: 0.007481871003454382\n",
      "Loss: 0.19452922994440253\n",
      "Loss: 0.06800693273544312\n",
      "Loss: 0.16283817724748093\n",
      "Loss: 0.7414084347811613\n",
      "Loss: 0.030698407780040394\n",
      "Loss: 0.00231440162116831\n",
      "Loss: 0.04002220251343467\n",
      "\n"
     ]
    }
   ],
   "source": [
    "for epoch in tqdm_notebook(range(EPOCHS)):\n",
    "    \n",
    "    pair = training_pairs[epoch]\n",
    "    input_tensor = pair[0]\n",
    "    target_tensor = pair[1]\n",
    "    \n",
    "\n",
    "    \n",
    "    loss = train(input_tensor, target_tensor, encoder,\n",
    "             decoder, encoder_optimizer, decoder_optimizer, criterion)\n",
    "\n",
    "    if epoch % 1000 == 0:\n",
    "        print(f\"Loss: {loss}\")\n",
    "    \n",
    "    losses.append(loss)\n",
    "    "
   ]
  },
  {
   "cell_type": "code",
   "execution_count": 22,
   "metadata": {},
   "outputs": [
    {
     "data": {
      "image/png": "[encoded data removed]",
      "text/plain": [
       "<Figure size 432x288 with 1 Axes>"
      ]
     },
     "metadata": {
      "needs_background": "light"
     },
     "output_type": "display_data"
    }
   ],
   "source": [
    "plt.plot(losses)\n",
    "plt.title(\"Loss\")\n",
    "plt.xlabel(\"Epoch\")\n",
    "plt.ylabel(\"Loss value\")\n",
    "plt.grid()\n",
    "plt.show()"
   ]
  },
  {
   "cell_type": "markdown",
   "metadata": {},
   "source": [
    "## Show predictions generated by a network"
   ]
  },
  {
   "cell_type": "code",
   "execution_count": 24,
   "metadata": {},
   "outputs": [],
   "source": [
    "def evaluate(encoder, decoder, sentence, max_length=MAX_LENGTH):\n",
    "    droput_value = decoder.dropout_p\n",
    "    \n",
    "    with torch.no_grad():\n",
    "        decoder.dropout_p = 0.0\n",
    "        \n",
    "        input_tensor = variable_from_sentence(input_lang, sentence)\n",
    "        input_length = input_tensor.size()[0]\n",
    "        encoder_hidden = encoder.init_hidden()\n",
    "\n",
    "        encoder_outputs = torch.zeros(max_length, encoder.hidden_size, device=device)\n",
    "\n",
    "        for i in range(input_length):\n",
    "            encoder_output, encoder_hidden = encoder(input_tensor[i],\n",
    "                                                     encoder_hidden)\n",
    "            encoder_outputs[i] += encoder_output[0, 0]\n",
    "\n",
    "        decoder_input = torch.tensor([[SOS_token]], device=device)  # SOS\n",
    "\n",
    "        decoder_hidden = encoder_hidden\n",
    "\n",
    "        decoded_words = []\n",
    "        decoder_attentions = torch.zeros(max_length, max_length)\n",
    "\n",
    "        for di in range(max_length):\n",
    "            decoder_output, decoder_hidden, decoder_attention = decoder(\n",
    "                decoder_input, decoder_hidden, encoder_outputs)\n",
    "            decoder_attentions[di] = decoder_attention.data\n",
    "            topv, topi = decoder_output.data.topk(1)\n",
    "            if topi.item() == EOS_token:\n",
    "                decoded_words.append('<EOS>')\n",
    "                break\n",
    "            else:\n",
    "                decoded_words.append(output_lang.index2char[topi.item()])\n",
    "\n",
    "            decoder_input = topi.squeeze().detach()\n",
    "            \n",
    "        decoder.dropout_p = droput_value\n",
    "\n",
    "        return decoded_words, decoder_attentions[:di + 1]"
   ]
  },
  {
   "cell_type": "code",
   "execution_count": 25,
   "metadata": {},
   "outputs": [],
   "source": [
    "def visualize_attention(input_word, output_word, attentions):\n",
    "    fig, ax = plt.subplots()\n",
    "    im = ax.imshow(attentions.numpy())\n",
    "\n",
    "    # We want to show all ticks...\n",
    "    ax.set_xticks(np.arange(len(input_word)))\n",
    "    ax.set_yticks(np.arange(len(output_word)))\n",
    "    # ... and label them with the respective list entries\n",
    "    ax.set_xticklabels(input_word)\n",
    "    ax.set_yticklabels(output_word)\n",
    "\n",
    "    # Rotate the tick labels and set their alignment.\n",
    "    plt.setp(ax.get_xticklabels(), rotation=45, ha=\"right\",\n",
    "             rotation_mode=\"anchor\")\n",
    "    \n",
    "    output_word = \"\".join(output_word).replace(\"<EOS>\", \"\")\n",
    "\n",
    "    ax.set_title(f\"Input: {input_word}, Prediction: {output_word}\")\n",
    "    fig.tight_layout()\n",
    "\n",
    "    \n",
    "    rcParams['figure.figsize'] = 10, 20\n",
    "    plt.show()\n",
    "    "
   ]
  },
  {
   "cell_type": "code",
   "execution_count": 27,
   "metadata": {},
   "outputs": [
    {
     "data": {
      "image/png": "[encoded data removed]",
      "text/plain": [
       "<Figure size 720x1440 with 1 Axes>"
      ]
     },
     "metadata": {
      "needs_background": "light"
     },
     "output_type": "display_data"
    }
   ],
   "source": [
    "input_word = \"3 02 97\"\n",
    "\n",
    "output_word, attentions = evaluate(\n",
    "    encoder, decoder, input_word)\n",
    "\n",
    "visualize_attention(input_word, output_word, attentions)\n"
   ]
  }
 ],
 "metadata": {
  "kernelspec": {
   "display_name": "Python 3",
   "language": "python",
   "name": "python3"
  },
  "language_info": {
   "codemirror_mode": {
    "name": "ipython",
    "version": 3
   },
   "file_extension": ".py",
   "mimetype": "text/x-python",
   "name": "python",
   "nbconvert_exporter": "python",
   "pygments_lexer": "ipython3",
   "version": "3.7.6"
  }
 },
 "nbformat": 4,
 "nbformat_minor": 2
}
